{
  "nbformat": 4,
  "nbformat_minor": 0,
  "metadata": {
    "colab": {
      "provenance": [],
      "authorship_tag": "ABX9TyMwqLOs9a2HnfamzZnf97p/"
    },
    "kernelspec": {
      "name": "python3",
      "display_name": "Python 3"
    },
    "language_info": {
      "name": "python"
    }
  },
  "cells": [
    {
      "cell_type": "code",
      "execution_count": null,
      "metadata": {
        "colab": {
          "base_uri": "https://localhost:8080/"
        },
        "id": "mxCbuhoIg4ys",
        "outputId": "9419fc6b-6d94-4f7b-8ab1-2276638d4530"
      },
      "outputs": [
        {
          "output_type": "stream",
          "name": "stdout",
          "text": [
            "Welcome to the hangman game, you will have to guess a word of 6 characters, \n",
            "and you have 6 errors allowed maximum\n",
            "_ _ _ _ _ _\n",
            "please type here:  g\n",
            "g _ _ _ _ _\n",
            "please type here:  e\n",
            "g _ e e _ e\n",
            "please type here:  c\n",
            "g _ e e c e\n",
            "please type here:  r\n",
            "g r e e c e\n",
            "you have won\n"
          ]
        }
      ],
      "source": [
        "#@title\n",
        "# declaring variables and lists\n",
        "\n",
        "#he mystery word gets converted into a list right away\n",
        "mystery_word = \"greece\"\n",
        "mystery_word_l = list(mystery_word)\n",
        "\n",
        "#guesses_so_far adds up the input by the player, the list will be used to compare\n",
        "# with the mystery word and declare the win if both are equal\n",
        "guesses_so_far = (\"_\" * len(mystery_word))\n",
        "guesses_so_far_l = list(guesses_so_far)\n",
        "\n",
        "#you re only allowed as many wrong guesses as there are letters in the word\n",
        "guess_count = len(mystery_word)\n",
        "\n",
        "#this will be used to store the index of a correctly guessed letter, and\n",
        "# in case the letter is found more than once, this allows me to fill the guess up with the same letter several times\n",
        "indices = []\n",
        "\n",
        "\n",
        "#this is where I do a quick welcome, this can be extended\n",
        "print(f\"Welcome to the hangman game, you will have to guess a word of {len(mystery_word)} characters, \\nand you have {guess_count} errors allowed maximum\")\n",
        "print(\" \".join(guesses_so_far_l))\n",
        "\n",
        "#here the code actually starts\n",
        "while True:\n",
        "\n",
        "#this is to test if the game has been won,\n",
        "#however I cannot explain why it runs properly after each time there is a new letter input\n",
        "  if guesses_so_far_l == mystery_word_l:\n",
        "    print(\"you have won\")\n",
        "    break\n",
        "\n",
        "#this is to check whether the player is still allowed another guess\n",
        "#same as for the previous block, I mostly shifted indentation until it worked\n",
        "  elif guess_count == 0:\n",
        "    print(\"u lost\")\n",
        "    break\n",
        "\n",
        "#only now does the letter input start\n",
        "#it was counterintuitive to me to have this block after the previous ones and at the \"end\"\n",
        "  else:\n",
        "    guess = input(\"please type here:  \")\n",
        "\n",
        "#checking if guess correct\n",
        "    if guess in mystery_word:\n",
        "\n",
        "      # the enumerate trick is out of a ChatGPT reply to the question\n",
        "      # \"how do I generate all indices for a letter found several times in a given word?\"\n",
        "      for index, value in enumerate(mystery_word_l):\n",
        "        if value == guess:\n",
        "          indices.append(index)\n",
        "          #now that the indices have been generate, so 2,3,5 for letter e in greece\n",
        "          #the letter gets added in all places\n",
        "          for any in indices:\n",
        "            guesses_so_far_l[any] = guess\n",
        "            #once updating the guess is done, the list of indexes has to be cleared for the next correct guess\n",
        "            indices.clear()\n",
        "      # I moved the following print statement around until it worked, don t ask ;)\n",
        "      # the \" \".join technique is from ChatGPT to the question\n",
        "      #\"how do I print elements in a list not like ['a', 'b', 'c] but like a b c\"?\n",
        "      print(\" \".join(guesses_so_far_l))\n",
        "    #checks if player still has the right to play while not having won yet\n",
        "    #however, idk if the second condition is needed here as the test  guesses_so_far_l == mystery_word_l\n",
        "    #is done above at the beginning\n",
        "    elif (guess_count > 0 and guesses_so_far_l != mystery_word_l):\n",
        "      guess_count -= 1\n",
        "      print(f\"wrong, You now have {guess_count} guesses left\")"
      ]
    }
  ]
}